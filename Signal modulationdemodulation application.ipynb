{
  "nbformat": 4,
  "nbformat_minor": 0,
  "metadata": {
    "colab": {
      "provenance": []
    },
    "kernelspec": {
      "name": "python3",
      "display_name": "Python 3"
    },
    "language_info": {
      "name": "python"
    }
  },
  "cells": [
    {
      "cell_type": "code",
      "execution_count": null,
      "metadata": {
        "id": "aWsXFwzMzMMc"
      },
      "outputs": [],
      "source": [
        "#include <stdio.h>\n",
        "#include <stdlib.h>\n",
        "\n",
        "#define BITS 8\n",
        "#define AMPLITUDE_HIGH 5\n",
        "#define AMPLITUDE_LOW 0\n",
        "\n",
        "void modulate_ask(const int* input, int* modulated, int size) {\n",
        "    for (int i = 0; i < size; i++) {\n",
        "        modulated[i] = input[i] ? AMPLITUDE_HIGH : AMPLITUDE_LOW;\n",
        "    }\n",
        "}\n",
        "\n",
        "void demodulate_ask(const int* modulated, int* output, int size) {\n",
        "    for (int i = 0; i < size; i++) {\n",
        "        output[i] = (modulated[i] > (AMPLITUDE_HIGH / 2)) ? 1 : 0;\n",
        "    }\n",
        "}\n",
        "\n",
        "void print_array(const char* label, const int* array, int size, FILE* f) {\n",
        "    fprintf(f, \"%s: \", label);\n",
        "    for (int i = 0; i < size; i++) {\n",
        "        fprintf(f, \"%d \", array[i]);\n",
        "    }\n",
        "    fprintf(f, \"\\n\");\n",
        "}\n",
        "\n",
        "int main() {\n",
        "    int input[BITS] = {1, 0, 1, 1, 0, 0, 1, 0};\n",
        "    int modulated[BITS];\n",
        "    int demodulated[BITS];\n",
        "\n",
        "    FILE* output = fopen(\"output.txt\", \"w\");\n",
        "\n",
        "    if (!output) {\n",
        "        perror(\"Unable to open output file\");\n",
        "        return 1;\n",
        "    }\n",
        "\n",
        "    modulate_ask(input, modulated, BITS);\n",
        "    demodulate_ask(modulated, demodulated, BITS);\n",
        "\n",
        "    print_array(\"Input Bits     \", input, BITS, output);\n",
        "    print_array(\"Modulated Signal\", modulated, BITS, output);\n",
        "    print_array(\"Demodulated Bits\", demodulated, BITS, output);\n",
        "\n",
        "    fclose(output);\n",
        "\n",
        "    printf(\"Modulation and demodulation completed. See output.txt.\\n\");\n",
        "\n",
        "    return 0;\n",
        "}\n"
      ]
    }
  ]
}